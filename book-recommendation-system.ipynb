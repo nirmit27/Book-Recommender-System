{
 "cells": [
  {
   "cell_type": "markdown",
   "id": "c88d9b3b",
   "metadata": {},
   "source": [
    "### Modules and other utils"
   ]
  },
  {
   "cell_type": "code",
   "execution_count": null,
   "id": "5d6654d1",
   "metadata": {},
   "outputs": [],
   "source": [
    "import numpy as np\n",
    "import pandas as pd\n",
    "import opendatasets as od\n",
    "from sklearn.metrics.pairwise import cosine_similarity as c_score\n",
    "\n",
    "od.download(\"https://www.kaggle.com/datasets/arashnic/book-recommendation-dataset\")\n",
    "\n",
    "ex = \"Harry Potter and the Prisoner of Azkaban\"\n",
    "cols = ['Book-Title', 'Book-Author', 'Image-URL-M', 'Votes', 'Avg-rating']\n",
    "\n",
    "def df_info(df):\n",
    "    print(f\"{df.head()}\\n\\nShape\\t:\\t{df.shape}\")"
   ]
  },
  {
   "cell_type": "markdown",
   "id": "55182cca",
   "metadata": {},
   "source": [
    "### Importing the **datasets**"
   ]
  },
  {
   "cell_type": "code",
   "execution_count": null,
   "id": "c73b03d9",
   "metadata": {},
   "outputs": [],
   "source": [
    "books = pd.read_csv('book-recommendation-dataset/Books.csv')\n",
    "users = pd.read_csv('book-recommendation-dataset/Users.csv')\n",
    "ratings = pd.read_csv('book-recommendation-dataset/Ratings.csv')"
   ]
  },
  {
   "cell_type": "markdown",
   "id": "a9625f3a",
   "metadata": {},
   "source": [
    "### Fixing Image URLs"
   ]
  },
  {
   "cell_type": "code",
   "execution_count": 3,
   "id": "1cd00231",
   "metadata": {},
   "outputs": [],
   "source": [
    "books['Image-URL-M'] = books['Image-URL-M'].str.replace('http', 'https')"
   ]
  },
  {
   "cell_type": "markdown",
   "id": "b8242433",
   "metadata": {},
   "source": [
    "## **Popularity-based** Recommendation System"
   ]
  },
  {
   "cell_type": "code",
   "execution_count": null,
   "id": "7a186d6e",
   "metadata": {},
   "outputs": [],
   "source": [
    "temp_br = books.merge(ratings, on=\"ISBN\")\n",
    "temp_br.shape"
   ]
  },
  {
   "cell_type": "markdown",
   "id": "b47a967f",
   "metadata": {},
   "source": [
    "### Number of Ratings"
   ]
  },
  {
   "cell_type": "code",
   "execution_count": null,
   "id": "ca564023",
   "metadata": {},
   "outputs": [],
   "source": [
    "temp_num = temp_br.groupby('Book-Title').count()['Book-Rating'].reset_index()\n",
    "temp_num.rename(columns={'Book-Rating': 'Votes'}, inplace=True)\n",
    "temp_num"
   ]
  },
  {
   "cell_type": "markdown",
   "id": "4cafeb62",
   "metadata": {},
   "source": [
    "### Average Rating"
   ]
  },
  {
   "cell_type": "code",
   "execution_count": null,
   "id": "97f06f5d",
   "metadata": {},
   "outputs": [],
   "source": [
    "temp_avg = temp_br.groupby('Book-Title')['Book-Rating'].mean().reset_index()\n",
    "temp_avg.rename(columns={'Book-Rating': 'Avg-rating'}, inplace=True)\n",
    "temp_avg"
   ]
  },
  {
   "cell_type": "markdown",
   "id": "7f0bddf6",
   "metadata": {},
   "source": [
    "### Popular books  -  based on `Avg-rating`"
   ]
  },
  {
   "cell_type": "code",
   "execution_count": null,
   "id": "ad41a847",
   "metadata": {},
   "outputs": [],
   "source": [
    "pop_ = temp_num.merge(temp_avg, on='Book-Title')\n",
    "pop_"
   ]
  },
  {
   "cell_type": "markdown",
   "id": "e0dd03af",
   "metadata": {},
   "source": [
    "### Filtering books based on `Votes`\n",
    "Obtaining **top 50** books based on `Votes >= 250`"
   ]
  },
  {
   "cell_type": "code",
   "execution_count": null,
   "id": "4a9541ce",
   "metadata": {
    "scrolled": true
   },
   "outputs": [],
   "source": [
    "temp__ = pop_[pop_['Votes'] >= 250].sort_values('Avg-rating', ascending=False)\n",
    "pop = temp__.head(50)\n",
    "pop.shape"
   ]
  },
  {
   "cell_type": "markdown",
   "id": "3730be72",
   "metadata": {},
   "source": [
    "### Merging with `books` to obtain more data"
   ]
  },
  {
   "cell_type": "code",
   "execution_count": null,
   "id": "3f4be6f0",
   "metadata": {},
   "outputs": [],
   "source": [
    "top50 = pop.merge(books, on='Book-Title')[cols]\n",
    "top50.drop_duplicates('Book-Title', inplace=True)\n",
    "top50"
   ]
  },
  {
   "cell_type": "markdown",
   "id": "3420f4f2",
   "metadata": {},
   "source": [
    "### Cleaning the `top50`"
   ]
  },
  {
   "cell_type": "code",
   "execution_count": null,
   "id": "1d37db3d",
   "metadata": {},
   "outputs": [],
   "source": [
    "top50['Avg-rating'] = round(top50['Avg-rating'], 2)\n",
    "top50['Book-Title'] = top50['Book-Title'].str.strip().replace(r'\\s{1,}\\(.*\\)', '', regex=True)\n",
    "top50.head()"
   ]
  },
  {
   "cell_type": "markdown",
   "id": "ac471022",
   "metadata": {},
   "source": [
    "### Outputting the `top50` dataset"
   ]
  },
  {
   "cell_type": "code",
   "execution_count": 11,
   "id": "ca81634e",
   "metadata": {},
   "outputs": [],
   "source": [
    "top50.to_csv('processed-dataset/top50.csv')"
   ]
  },
  {
   "cell_type": "markdown",
   "id": "ca86d53c",
   "metadata": {},
   "source": [
    "## User-based **Collaborative Filtering**"
   ]
  },
  {
   "cell_type": "markdown",
   "id": "f157fd5c",
   "metadata": {},
   "source": [
    "### Obtaining `User-ID` with **more than 200** reviews"
   ]
  },
  {
   "cell_type": "code",
   "execution_count": null,
   "id": "2ebb813c",
   "metadata": {
    "scrolled": true
   },
   "outputs": [],
   "source": [
    "x = temp_br.groupby('User-ID').count()['Book-Rating']\n",
    "top_users = x[x > 200].index\n",
    "top_users"
   ]
  },
  {
   "cell_type": "markdown",
   "id": "5099a13d",
   "metadata": {},
   "source": [
    "### Obtaining the records made by `top_users`"
   ]
  },
  {
   "cell_type": "code",
   "execution_count": null,
   "id": "245a3ec0",
   "metadata": {},
   "outputs": [],
   "source": [
    "filtered_users = temp_br[temp_br['User-ID'].isin(top_users)]\n",
    "df_info(filtered_users)"
   ]
  },
  {
   "cell_type": "markdown",
   "id": "36537885",
   "metadata": {},
   "source": [
    "### Obtaining the `Book-Title` with **more than 50** ratings"
   ]
  },
  {
   "cell_type": "code",
   "execution_count": 14,
   "id": "00e6f23e",
   "metadata": {},
   "outputs": [],
   "source": [
    "y = filtered_users.groupby('Book-Title').count()['Book-Rating']\n",
    "famous_books = y[y >= 50].reset_index()['Book-Title'].values"
   ]
  },
  {
   "cell_type": "markdown",
   "id": "19eeb1a9",
   "metadata": {},
   "source": [
    "### Obtaining the `famous_books` records"
   ]
  },
  {
   "cell_type": "code",
   "execution_count": null,
   "id": "08f8fd2c",
   "metadata": {},
   "outputs": [],
   "source": [
    "filtered_books = filtered_users[filtered_users['Book-Title'].isin(famous_books)]\n",
    "filtered_books.head()"
   ]
  },
  {
   "cell_type": "markdown",
   "id": "5bc60afa",
   "metadata": {},
   "source": [
    "### Cleaning the `filtered books` book titles"
   ]
  },
  {
   "cell_type": "code",
   "execution_count": null,
   "id": "f0c77046",
   "metadata": {},
   "outputs": [],
   "source": [
    "filtered_books['Book-Title'] = filtered_books['Book-Title'].str.strip().replace(r'\\s{1,}\\(.*\\)', '', regex=True)\n",
    "filtered_books['Book-Title'] = filtered_books['Book-Title'].str.replace('&amp;', 'and')\n",
    "filtered_books['Book-Title'] = filtered_books['Book-Title'].str.replace('\\\\O\\\\\" Is for Outlaw\"', \"O is for Outlaw\")\n",
    "filtered_books[filtered_books['Book-Title'] == ex]"
   ]
  },
  {
   "cell_type": "markdown",
   "id": "1261141c",
   "metadata": {},
   "source": [
    "### **Pivoting** the table `filtered_books`\n",
    "On the `Book-Title` column as **index**, with `User-ID` as **columns** and `Book-Rating` as **values**"
   ]
  },
  {
   "cell_type": "code",
   "execution_count": null,
   "id": "09ef837a",
   "metadata": {},
   "outputs": [],
   "source": [
    "pt = filtered_books.pivot_table(index='Book-Title', columns='User-ID', values='Book-Rating').fillna(0.0)\n",
    "pt"
   ]
  },
  {
   "cell_type": "markdown",
   "id": "00652e66",
   "metadata": {},
   "source": [
    "### Computing the **cosine similarity** scores"
   ]
  },
  {
   "cell_type": "code",
   "execution_count": null,
   "id": "838a9135",
   "metadata": {},
   "outputs": [],
   "source": [
    "sim_scores = c_score(pt)\n",
    "sim_scores, sim_scores.shape"
   ]
  },
  {
   "cell_type": "markdown",
   "id": "9262c0e9",
   "metadata": {},
   "source": [
    "### **Recommender** function"
   ]
  },
  {
   "cell_type": "code",
   "execution_count": 19,
   "id": "fdb3a392",
   "metadata": {},
   "outputs": [],
   "source": [
    "def recommend(book):\n",
    "    suggestions = []\n",
    "    index = np.where(pt.index == book)[0][0]\n",
    "    s_books = sorted(list(enumerate(sim_scores[index])), key=lambda x:x[1], reverse=True)[1:6]\n",
    "    for book in s_books:\n",
    "        suggestions.append(pt.index[book[0]])\n",
    "    return suggestions"
   ]
  },
  {
   "cell_type": "markdown",
   "id": "8aa181bf",
   "metadata": {},
   "source": [
    "### Obtaining recommended books i.e. **top 5** suggestions"
   ]
  },
  {
   "cell_type": "code",
   "execution_count": null,
   "id": "56694eb4",
   "metadata": {},
   "outputs": [],
   "source": [
    "recommend(\"Harry Potter and the Sorcerer's Stone\")"
   ]
  },
  {
   "cell_type": "markdown",
   "id": "bc2525bb",
   "metadata": {},
   "source": [
    "### Rough Work"
   ]
  },
  {
   "cell_type": "markdown",
   "id": "9bf06902",
   "metadata": {},
   "source": [
    "#### Enumerated list of `SIMILARITY SCORES` i.e. each index represents the corres. index in `pt` table"
   ]
  },
  {
   "cell_type": "code",
   "execution_count": null,
   "id": "858b9bf1",
   "metadata": {},
   "outputs": [],
   "source": [
    "s = list(enumerate(sim_scores))\n",
    "s[0][1]                        # will give the SIMILARITY SCORE of `1984` against ALL the 698 books in pt"
   ]
  },
  {
   "cell_type": "markdown",
   "id": "bf3d9592",
   "metadata": {},
   "source": [
    "#### Fetching the `index` of each book"
   ]
  },
  {
   "cell_type": "code",
   "execution_count": null,
   "id": "77bba5aa",
   "metadata": {},
   "outputs": [],
   "source": [
    "print(f\"Index of 'The Da Vinci Code' : {np.where(pt.index == ex)[0][0]}\")"
   ]
  },
  {
   "cell_type": "markdown",
   "id": "e7c19df0",
   "metadata": {},
   "source": [
    "#### Sorting the `SIMILARITY SCORES` in **descending order**"
   ]
  },
  {
   "cell_type": "code",
   "execution_count": null,
   "id": "d3191be2",
   "metadata": {},
   "outputs": [],
   "source": [
    "for p, q in enumerate(s[0][1]):\n",
    "    print(f\"Book# : {p} - SCORE : {q}\") # will display all the 698 books' SIMILARITY SCORES with index on LHS against '1984'\n",
    "\n",
    "sample = list(enumerate(sim_scores[0])) # wil sort the scores against book '1984' in reverse order\n",
    "z = sorted(sample, key=lambda x:x[1], reverse=True)[1:6]"
   ]
  },
  {
   "cell_type": "markdown",
   "id": "5a120d46",
   "metadata": {},
   "source": [
    "#### Fetching the `Book-Title` using the **index** of `pt`  table"
   ]
  },
  {
   "cell_type": "code",
   "execution_count": null,
   "id": "aac3d020",
   "metadata": {
    "scrolled": true
   },
   "outputs": [],
   "source": [
    "ctr = 0\n",
    "for index, book_score in z:\n",
    "    if ctr!=4:\n",
    "        print(f\"Book Name : {pt.index[index]}\\nScore : {book_score}\\n\")\n",
    "        ctr+=1\n",
    "    else:\n",
    "        print(f\"Book Name : {pt.index[index]}\\nScore : {book_score}\")"
   ]
  },
  {
   "cell_type": "markdown",
   "id": "5dc81cce",
   "metadata": {},
   "source": [
    "### Fetching all the details for each of the `suggestions`"
   ]
  },
  {
   "cell_type": "markdown",
   "id": "5385fee6",
   "metadata": {},
   "source": [
    "#### Removing **duplicate names** from `filtered_books`\n",
    "Only `698` records remain"
   ]
  },
  {
   "cell_type": "code",
   "execution_count": 25,
   "id": "5fbf0657",
   "metadata": {},
   "outputs": [],
   "source": [
    "temp_books = filtered_books.drop_duplicates('Book-Title')[['Book-Title', 'Book-Author', 'Publisher', 'Year-Of-Publication', 'Image-URL-M']]\n",
    "temp_books.to_csv('processed-dataset/final.csv')"
   ]
  },
  {
   "cell_type": "markdown",
   "id": "cebeef23",
   "metadata": {},
   "source": [
    "#### **Top 5**  suggestions"
   ]
  },
  {
   "cell_type": "code",
   "execution_count": 26,
   "id": "f0b5c51f",
   "metadata": {},
   "outputs": [],
   "source": [
    "all_suggestions = {}\n",
    "\n",
    "for name in pt.index:\n",
    "    all_suggestions.update({name: recommend(name)})\n",
    "    \n",
    "suggestions = pd.DataFrame(all_suggestions).T\n",
    "suggestions.reset_index(inplace=True)\n",
    "suggestions.rename(columns={'index': 'book-title', 0: \"1st\", 1: \"2nd\", 2: \"3rd\", 3: \"4th\", 4: \"5th\"}, inplace=True)\n",
    "\n",
    "suggestions.to_csv('processed-dataset/sugg.csv')"
   ]
  },
  {
   "cell_type": "markdown",
   "id": "87a238ed",
   "metadata": {},
   "source": [
    "#### Function for fetching details from `temp_books`"
   ]
  },
  {
   "cell_type": "code",
   "execution_count": null,
   "id": "a3dd1111",
   "metadata": {},
   "outputs": [],
   "source": [
    "book_data = []\n",
    "for name in suggestions[suggestions['book-title'] == ex].values[0][1:]:\n",
    "    for data in temp_books[temp_books['Book-Title']==name].values:\n",
    "        book_data.append(data)\n",
    "\n",
    "for item in book_data:\n",
    "    for i in item:\n",
    "        print(i)\n",
    "    print()"
   ]
  }
 ],
 "metadata": {
  "kernelspec": {
   "display_name": "Python 3 (ipykernel)",
   "language": "python",
   "name": "python3"
  },
  "language_info": {
   "codemirror_mode": {
    "name": "ipython",
    "version": 3
   },
   "file_extension": ".py",
   "mimetype": "text/x-python",
   "name": "python",
   "nbconvert_exporter": "python",
   "pygments_lexer": "ipython3",
   "version": "3.11.5"
  }
 },
 "nbformat": 4,
 "nbformat_minor": 5
}
