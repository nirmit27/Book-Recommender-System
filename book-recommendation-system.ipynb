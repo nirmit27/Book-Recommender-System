{
 "cells": [
  {
   "cell_type": "markdown",
   "id": "729ce898",
   "metadata": {},
   "source": [
    "# **Book Recommendation System**"
   ]
  },
  {
   "cell_type": "markdown",
   "id": "c88d9b3b",
   "metadata": {},
   "source": [
    "### Importing the necessary **modules**"
   ]
  },
  {
   "cell_type": "code",
   "execution_count": 2,
   "id": "d4be4516",
   "metadata": {},
   "outputs": [],
   "source": [
    "import numpy as np\n",
    "import pandas as pd\n",
    "import opendatasets as od\n",
    "from sklearn.metrics.pairwise import cosine_similarity as c_score\n",
    "\n",
    "# Suppress all warnings\n",
    "import warnings\n",
    "warnings.filterwarnings(\"ignore\")"
   ]
  },
  {
   "cell_type": "code",
   "execution_count": 12,
   "id": "5d6654d1",
   "metadata": {},
   "outputs": [
    {
     "name": "stdout",
     "output_type": "stream",
     "text": [
      "Skipping, found downloaded files in \".\\book-recommendation-dataset\" (use force=True to force download)\n"
     ]
    }
   ],
   "source": [
    "od.download(\"https://www.kaggle.com/datasets/arashnic/book-recommendation-dataset\")\n",
    "\n",
    "ex = \"Harry Potter and the Prisoner of Azkaban\"\n",
    "cols = ['Book-Title', 'Book-Author', 'Image-URL-M', 'Votes', 'Avg-rating']\n",
    "\n",
    "def df_info(df):\n",
    "    print(f\"{df.head()}\\n\\nShape\\t:\\t{df.shape}\")"
   ]
  },
  {
   "cell_type": "markdown",
   "id": "55182cca",
   "metadata": {},
   "source": [
    "### Importing the **datasets**"
   ]
  },
  {
   "cell_type": "code",
   "execution_count": 3,
   "id": "c73b03d9",
   "metadata": {},
   "outputs": [],
   "source": [
    "books = pd.read_csv('book-recommendation-dataset/Books.csv')\n",
    "users = pd.read_csv('book-recommendation-dataset/Users.csv')\n",
    "ratings = pd.read_csv('book-recommendation-dataset/Ratings.csv')"
   ]
  },
  {
   "cell_type": "markdown",
   "id": "a9625f3a",
   "metadata": {},
   "source": [
    "### Fixing Image URLs"
   ]
  },
  {
   "cell_type": "code",
   "execution_count": 4,
   "id": "1cd00231",
   "metadata": {},
   "outputs": [],
   "source": [
    "books['Image-URL-M'] = books['Image-URL-M'].str.replace('http', 'https')"
   ]
  },
  {
   "cell_type": "markdown",
   "id": "b8242433",
   "metadata": {},
   "source": [
    "## **Popularity-based** Recommendation System"
   ]
  },
  {
   "cell_type": "code",
   "execution_count": 5,
   "id": "7a186d6e",
   "metadata": {},
   "outputs": [
    {
     "data": {
      "text/plain": [
       "(1031136, 10)"
      ]
     },
     "execution_count": 5,
     "metadata": {},
     "output_type": "execute_result"
    }
   ],
   "source": [
    "temp_br = books.merge(ratings, on=\"ISBN\")\n",
    "temp_br.shape"
   ]
  },
  {
   "cell_type": "markdown",
   "id": "b47a967f",
   "metadata": {},
   "source": [
    "### Number of Ratings"
   ]
  },
  {
   "cell_type": "code",
   "execution_count": 7,
   "id": "ca564023",
   "metadata": {},
   "outputs": [
    {
     "data": {
      "text/html": [
       "<div>\n",
       "<style scoped>\n",
       "    .dataframe tbody tr th:only-of-type {\n",
       "        vertical-align: middle;\n",
       "    }\n",
       "\n",
       "    .dataframe tbody tr th {\n",
       "        vertical-align: top;\n",
       "    }\n",
       "\n",
       "    .dataframe thead th {\n",
       "        text-align: right;\n",
       "    }\n",
       "</style>\n",
       "<table border=\"1\" class=\"dataframe\">\n",
       "  <thead>\n",
       "    <tr style=\"text-align: right;\">\n",
       "      <th></th>\n",
       "      <th>Book-Title</th>\n",
       "      <th>Votes</th>\n",
       "    </tr>\n",
       "  </thead>\n",
       "  <tbody>\n",
       "    <tr>\n",
       "      <th>0</th>\n",
       "      <td>A Light in the Storm: The Civil War Diary of ...</td>\n",
       "      <td>4</td>\n",
       "    </tr>\n",
       "    <tr>\n",
       "      <th>1</th>\n",
       "      <td>Always Have Popsicles</td>\n",
       "      <td>1</td>\n",
       "    </tr>\n",
       "    <tr>\n",
       "      <th>2</th>\n",
       "      <td>Apple Magic (The Collector's series)</td>\n",
       "      <td>1</td>\n",
       "    </tr>\n",
       "    <tr>\n",
       "      <th>3</th>\n",
       "      <td>Ask Lily (Young Women of Faith: Lily Series, ...</td>\n",
       "      <td>1</td>\n",
       "    </tr>\n",
       "    <tr>\n",
       "      <th>4</th>\n",
       "      <td>Beyond IBM: Leadership Marketing and Finance ...</td>\n",
       "      <td>1</td>\n",
       "    </tr>\n",
       "  </tbody>\n",
       "</table>\n",
       "</div>"
      ],
      "text/plain": [
       "                                          Book-Title  Votes\n",
       "0   A Light in the Storm: The Civil War Diary of ...      4\n",
       "1                              Always Have Popsicles      1\n",
       "2               Apple Magic (The Collector's series)      1\n",
       "3   Ask Lily (Young Women of Faith: Lily Series, ...      1\n",
       "4   Beyond IBM: Leadership Marketing and Finance ...      1"
      ]
     },
     "execution_count": 7,
     "metadata": {},
     "output_type": "execute_result"
    }
   ],
   "source": [
    "temp_num = temp_br.groupby('Book-Title').count()['Book-Rating'].reset_index()\n",
    "temp_num.rename(columns={'Book-Rating': 'Votes'}, inplace=True)\n",
    "\n",
    "temp_num.head()"
   ]
  },
  {
   "cell_type": "markdown",
   "id": "4cafeb62",
   "metadata": {},
   "source": [
    "### Average Rating"
   ]
  },
  {
   "cell_type": "code",
   "execution_count": 8,
   "id": "97f06f5d",
   "metadata": {},
   "outputs": [
    {
     "data": {
      "text/html": [
       "<div>\n",
       "<style scoped>\n",
       "    .dataframe tbody tr th:only-of-type {\n",
       "        vertical-align: middle;\n",
       "    }\n",
       "\n",
       "    .dataframe tbody tr th {\n",
       "        vertical-align: top;\n",
       "    }\n",
       "\n",
       "    .dataframe thead th {\n",
       "        text-align: right;\n",
       "    }\n",
       "</style>\n",
       "<table border=\"1\" class=\"dataframe\">\n",
       "  <thead>\n",
       "    <tr style=\"text-align: right;\">\n",
       "      <th></th>\n",
       "      <th>Book-Title</th>\n",
       "      <th>Avg-rating</th>\n",
       "    </tr>\n",
       "  </thead>\n",
       "  <tbody>\n",
       "    <tr>\n",
       "      <th>0</th>\n",
       "      <td>A Light in the Storm: The Civil War Diary of ...</td>\n",
       "      <td>2.25</td>\n",
       "    </tr>\n",
       "    <tr>\n",
       "      <th>1</th>\n",
       "      <td>Always Have Popsicles</td>\n",
       "      <td>0.00</td>\n",
       "    </tr>\n",
       "    <tr>\n",
       "      <th>2</th>\n",
       "      <td>Apple Magic (The Collector's series)</td>\n",
       "      <td>0.00</td>\n",
       "    </tr>\n",
       "    <tr>\n",
       "      <th>3</th>\n",
       "      <td>Ask Lily (Young Women of Faith: Lily Series, ...</td>\n",
       "      <td>8.00</td>\n",
       "    </tr>\n",
       "    <tr>\n",
       "      <th>4</th>\n",
       "      <td>Beyond IBM: Leadership Marketing and Finance ...</td>\n",
       "      <td>0.00</td>\n",
       "    </tr>\n",
       "  </tbody>\n",
       "</table>\n",
       "</div>"
      ],
      "text/plain": [
       "                                          Book-Title  Avg-rating\n",
       "0   A Light in the Storm: The Civil War Diary of ...        2.25\n",
       "1                              Always Have Popsicles        0.00\n",
       "2               Apple Magic (The Collector's series)        0.00\n",
       "3   Ask Lily (Young Women of Faith: Lily Series, ...        8.00\n",
       "4   Beyond IBM: Leadership Marketing and Finance ...        0.00"
      ]
     },
     "execution_count": 8,
     "metadata": {},
     "output_type": "execute_result"
    }
   ],
   "source": [
    "temp_avg = temp_br.groupby('Book-Title')['Book-Rating'].mean().reset_index()\n",
    "temp_avg.rename(columns={'Book-Rating': 'Avg-rating'}, inplace=True)\n",
    "\n",
    "temp_avg.head()"
   ]
  },
  {
   "cell_type": "markdown",
   "id": "7f0bddf6",
   "metadata": {},
   "source": [
    "### Popular books  -  based on `Avg-rating`"
   ]
  },
  {
   "cell_type": "code",
   "execution_count": 9,
   "id": "ad41a847",
   "metadata": {},
   "outputs": [
    {
     "data": {
      "text/html": [
       "<div>\n",
       "<style scoped>\n",
       "    .dataframe tbody tr th:only-of-type {\n",
       "        vertical-align: middle;\n",
       "    }\n",
       "\n",
       "    .dataframe tbody tr th {\n",
       "        vertical-align: top;\n",
       "    }\n",
       "\n",
       "    .dataframe thead th {\n",
       "        text-align: right;\n",
       "    }\n",
       "</style>\n",
       "<table border=\"1\" class=\"dataframe\">\n",
       "  <thead>\n",
       "    <tr style=\"text-align: right;\">\n",
       "      <th></th>\n",
       "      <th>Book-Title</th>\n",
       "      <th>Votes</th>\n",
       "      <th>Avg-rating</th>\n",
       "    </tr>\n",
       "  </thead>\n",
       "  <tbody>\n",
       "    <tr>\n",
       "      <th>0</th>\n",
       "      <td>A Light in the Storm: The Civil War Diary of ...</td>\n",
       "      <td>4</td>\n",
       "      <td>2.25</td>\n",
       "    </tr>\n",
       "    <tr>\n",
       "      <th>1</th>\n",
       "      <td>Always Have Popsicles</td>\n",
       "      <td>1</td>\n",
       "      <td>0.00</td>\n",
       "    </tr>\n",
       "    <tr>\n",
       "      <th>2</th>\n",
       "      <td>Apple Magic (The Collector's series)</td>\n",
       "      <td>1</td>\n",
       "      <td>0.00</td>\n",
       "    </tr>\n",
       "    <tr>\n",
       "      <th>3</th>\n",
       "      <td>Ask Lily (Young Women of Faith: Lily Series, ...</td>\n",
       "      <td>1</td>\n",
       "      <td>8.00</td>\n",
       "    </tr>\n",
       "    <tr>\n",
       "      <th>4</th>\n",
       "      <td>Beyond IBM: Leadership Marketing and Finance ...</td>\n",
       "      <td>1</td>\n",
       "      <td>0.00</td>\n",
       "    </tr>\n",
       "  </tbody>\n",
       "</table>\n",
       "</div>"
      ],
      "text/plain": [
       "                                          Book-Title  Votes  Avg-rating\n",
       "0   A Light in the Storm: The Civil War Diary of ...      4        2.25\n",
       "1                              Always Have Popsicles      1        0.00\n",
       "2               Apple Magic (The Collector's series)      1        0.00\n",
       "3   Ask Lily (Young Women of Faith: Lily Series, ...      1        8.00\n",
       "4   Beyond IBM: Leadership Marketing and Finance ...      1        0.00"
      ]
     },
     "execution_count": 9,
     "metadata": {},
     "output_type": "execute_result"
    }
   ],
   "source": [
    "pop_ = temp_num.merge(temp_avg, on='Book-Title')\n",
    "pop_.head()"
   ]
  },
  {
   "cell_type": "markdown",
   "id": "e0dd03af",
   "metadata": {},
   "source": [
    "### Filtering books based on `Votes`\n",
    "Obtaining **top 50** books based on `Votes >= 250`"
   ]
  },
  {
   "cell_type": "code",
   "execution_count": 13,
   "id": "4a9541ce",
   "metadata": {
    "scrolled": true
   },
   "outputs": [
    {
     "data": {
      "text/plain": [
       "(50, 3)"
      ]
     },
     "execution_count": 13,
     "metadata": {},
     "output_type": "execute_result"
    }
   ],
   "source": [
    "temp__ = pop_[pop_['Votes'] >= 250].sort_values('Avg-rating', ascending=False)\n",
    "pop = temp__.head(50)\n",
    "pop.shape"
   ]
  },
  {
   "cell_type": "markdown",
   "id": "3730be72",
   "metadata": {},
   "source": [
    "### Merging with `books` to obtain more data"
   ]
  },
  {
   "cell_type": "code",
   "execution_count": 14,
   "id": "3f4be6f0",
   "metadata": {},
   "outputs": [
    {
     "data": {
      "text/html": [
       "<div>\n",
       "<style scoped>\n",
       "    .dataframe tbody tr th:only-of-type {\n",
       "        vertical-align: middle;\n",
       "    }\n",
       "\n",
       "    .dataframe tbody tr th {\n",
       "        vertical-align: top;\n",
       "    }\n",
       "\n",
       "    .dataframe thead th {\n",
       "        text-align: right;\n",
       "    }\n",
       "</style>\n",
       "<table border=\"1\" class=\"dataframe\">\n",
       "  <thead>\n",
       "    <tr style=\"text-align: right;\">\n",
       "      <th></th>\n",
       "      <th>Book-Title</th>\n",
       "      <th>Book-Author</th>\n",
       "      <th>Image-URL-M</th>\n",
       "      <th>Votes</th>\n",
       "      <th>Avg-rating</th>\n",
       "    </tr>\n",
       "  </thead>\n",
       "  <tbody>\n",
       "    <tr>\n",
       "      <th>0</th>\n",
       "      <td>Harry Potter and the Prisoner of Azkaban (Book 3)</td>\n",
       "      <td>J. K. Rowling</td>\n",
       "      <td>https://images.amazon.com/images/P/0439136350....</td>\n",
       "      <td>428</td>\n",
       "      <td>5.852804</td>\n",
       "    </tr>\n",
       "    <tr>\n",
       "      <th>3</th>\n",
       "      <td>Harry Potter and the Goblet of Fire (Book 4)</td>\n",
       "      <td>J. K. Rowling</td>\n",
       "      <td>https://images.amazon.com/images/P/0439139597....</td>\n",
       "      <td>387</td>\n",
       "      <td>5.824289</td>\n",
       "    </tr>\n",
       "    <tr>\n",
       "      <th>5</th>\n",
       "      <td>Harry Potter and the Sorcerer's Stone (Book 1)</td>\n",
       "      <td>J. K. Rowling</td>\n",
       "      <td>https://images.amazon.com/images/P/0590353403....</td>\n",
       "      <td>278</td>\n",
       "      <td>5.737410</td>\n",
       "    </tr>\n",
       "    <tr>\n",
       "      <th>9</th>\n",
       "      <td>Harry Potter and the Order of the Phoenix (Boo...</td>\n",
       "      <td>J. K. Rowling</td>\n",
       "      <td>https://images.amazon.com/images/P/043935806X....</td>\n",
       "      <td>347</td>\n",
       "      <td>5.501441</td>\n",
       "    </tr>\n",
       "    <tr>\n",
       "      <th>13</th>\n",
       "      <td>Harry Potter and the Chamber of Secrets (Book 2)</td>\n",
       "      <td>J. K. Rowling</td>\n",
       "      <td>https://images.amazon.com/images/P/0439064872....</td>\n",
       "      <td>556</td>\n",
       "      <td>5.183453</td>\n",
       "    </tr>\n",
       "  </tbody>\n",
       "</table>\n",
       "</div>"
      ],
      "text/plain": [
       "                                           Book-Title    Book-Author  \\\n",
       "0   Harry Potter and the Prisoner of Azkaban (Book 3)  J. K. Rowling   \n",
       "3        Harry Potter and the Goblet of Fire (Book 4)  J. K. Rowling   \n",
       "5      Harry Potter and the Sorcerer's Stone (Book 1)  J. K. Rowling   \n",
       "9   Harry Potter and the Order of the Phoenix (Boo...  J. K. Rowling   \n",
       "13   Harry Potter and the Chamber of Secrets (Book 2)  J. K. Rowling   \n",
       "\n",
       "                                          Image-URL-M  Votes  Avg-rating  \n",
       "0   https://images.amazon.com/images/P/0439136350....    428    5.852804  \n",
       "3   https://images.amazon.com/images/P/0439139597....    387    5.824289  \n",
       "5   https://images.amazon.com/images/P/0590353403....    278    5.737410  \n",
       "9   https://images.amazon.com/images/P/043935806X....    347    5.501441  \n",
       "13  https://images.amazon.com/images/P/0439064872....    556    5.183453  "
      ]
     },
     "execution_count": 14,
     "metadata": {},
     "output_type": "execute_result"
    }
   ],
   "source": [
    "top50 = pop.merge(books, on='Book-Title')[cols]\n",
    "top50.drop_duplicates('Book-Title', inplace=True)\n",
    "\n",
    "top50.head()"
   ]
  },
  {
   "cell_type": "markdown",
   "id": "3420f4f2",
   "metadata": {},
   "source": [
    "### Cleaning the `top50`"
   ]
  },
  {
   "cell_type": "code",
   "execution_count": 15,
   "id": "1d37db3d",
   "metadata": {},
   "outputs": [
    {
     "data": {
      "text/html": [
       "<div>\n",
       "<style scoped>\n",
       "    .dataframe tbody tr th:only-of-type {\n",
       "        vertical-align: middle;\n",
       "    }\n",
       "\n",
       "    .dataframe tbody tr th {\n",
       "        vertical-align: top;\n",
       "    }\n",
       "\n",
       "    .dataframe thead th {\n",
       "        text-align: right;\n",
       "    }\n",
       "</style>\n",
       "<table border=\"1\" class=\"dataframe\">\n",
       "  <thead>\n",
       "    <tr style=\"text-align: right;\">\n",
       "      <th></th>\n",
       "      <th>Book-Title</th>\n",
       "      <th>Book-Author</th>\n",
       "      <th>Image-URL-M</th>\n",
       "      <th>Votes</th>\n",
       "      <th>Avg-rating</th>\n",
       "    </tr>\n",
       "  </thead>\n",
       "  <tbody>\n",
       "    <tr>\n",
       "      <th>0</th>\n",
       "      <td>Harry Potter and the Prisoner of Azkaban</td>\n",
       "      <td>J. K. Rowling</td>\n",
       "      <td>https://images.amazon.com/images/P/0439136350....</td>\n",
       "      <td>428</td>\n",
       "      <td>5.85</td>\n",
       "    </tr>\n",
       "    <tr>\n",
       "      <th>3</th>\n",
       "      <td>Harry Potter and the Goblet of Fire</td>\n",
       "      <td>J. K. Rowling</td>\n",
       "      <td>https://images.amazon.com/images/P/0439139597....</td>\n",
       "      <td>387</td>\n",
       "      <td>5.82</td>\n",
       "    </tr>\n",
       "    <tr>\n",
       "      <th>5</th>\n",
       "      <td>Harry Potter and the Sorcerer's Stone</td>\n",
       "      <td>J. K. Rowling</td>\n",
       "      <td>https://images.amazon.com/images/P/0590353403....</td>\n",
       "      <td>278</td>\n",
       "      <td>5.74</td>\n",
       "    </tr>\n",
       "    <tr>\n",
       "      <th>9</th>\n",
       "      <td>Harry Potter and the Order of the Phoenix</td>\n",
       "      <td>J. K. Rowling</td>\n",
       "      <td>https://images.amazon.com/images/P/043935806X....</td>\n",
       "      <td>347</td>\n",
       "      <td>5.50</td>\n",
       "    </tr>\n",
       "    <tr>\n",
       "      <th>13</th>\n",
       "      <td>Harry Potter and the Chamber of Secrets</td>\n",
       "      <td>J. K. Rowling</td>\n",
       "      <td>https://images.amazon.com/images/P/0439064872....</td>\n",
       "      <td>556</td>\n",
       "      <td>5.18</td>\n",
       "    </tr>\n",
       "  </tbody>\n",
       "</table>\n",
       "</div>"
      ],
      "text/plain": [
       "                                   Book-Title    Book-Author  \\\n",
       "0    Harry Potter and the Prisoner of Azkaban  J. K. Rowling   \n",
       "3         Harry Potter and the Goblet of Fire  J. K. Rowling   \n",
       "5       Harry Potter and the Sorcerer's Stone  J. K. Rowling   \n",
       "9   Harry Potter and the Order of the Phoenix  J. K. Rowling   \n",
       "13    Harry Potter and the Chamber of Secrets  J. K. Rowling   \n",
       "\n",
       "                                          Image-URL-M  Votes  Avg-rating  \n",
       "0   https://images.amazon.com/images/P/0439136350....    428        5.85  \n",
       "3   https://images.amazon.com/images/P/0439139597....    387        5.82  \n",
       "5   https://images.amazon.com/images/P/0590353403....    278        5.74  \n",
       "9   https://images.amazon.com/images/P/043935806X....    347        5.50  \n",
       "13  https://images.amazon.com/images/P/0439064872....    556        5.18  "
      ]
     },
     "execution_count": 15,
     "metadata": {},
     "output_type": "execute_result"
    }
   ],
   "source": [
    "top50['Avg-rating'] = round(top50['Avg-rating'], 2)\n",
    "top50['Book-Title'] = top50['Book-Title'].str.strip().replace(r'\\s{1,}\\(.*\\)', '', regex=True)\n",
    "\n",
    "top50.head()"
   ]
  },
  {
   "cell_type": "markdown",
   "id": "ac471022",
   "metadata": {},
   "source": [
    "### Outputting the `top50` dataset"
   ]
  },
  {
   "cell_type": "code",
   "execution_count": 16,
   "id": "ca81634e",
   "metadata": {},
   "outputs": [],
   "source": [
    "top50.to_csv('processed-dataset/top50.csv')"
   ]
  },
  {
   "cell_type": "markdown",
   "id": "ca86d53c",
   "metadata": {},
   "source": [
    "## User-based **Collaborative Filtering**"
   ]
  },
  {
   "cell_type": "markdown",
   "id": "f157fd5c",
   "metadata": {},
   "source": [
    "### Obtaining `User-ID` with **more than 200** reviews"
   ]
  },
  {
   "cell_type": "code",
   "execution_count": 19,
   "id": "2ebb813c",
   "metadata": {
    "scrolled": true
   },
   "outputs": [
    {
     "data": {
      "text/plain": [
       "Index([254, 2276, 2766, 2977, 3363], dtype='int64', name='User-ID')"
      ]
     },
     "execution_count": 19,
     "metadata": {},
     "output_type": "execute_result"
    }
   ],
   "source": [
    "x = temp_br.groupby('User-ID').count()['Book-Rating']\n",
    "top_users = x[x > 200].index\n",
    "\n",
    "top_users[:5]"
   ]
  },
  {
   "cell_type": "markdown",
   "id": "5099a13d",
   "metadata": {},
   "source": [
    "### Obtaining the records made by `top_users`"
   ]
  },
  {
   "cell_type": "code",
   "execution_count": 20,
   "id": "245a3ec0",
   "metadata": {},
   "outputs": [
    {
     "name": "stdout",
     "output_type": "stream",
     "text": [
      "          ISBN                                         Book-Title  \\\n",
      "3   0002005018                                       Clara Callan   \n",
      "6   0002005018                                       Clara Callan   \n",
      "7   0002005018                                       Clara Callan   \n",
      "10  0002005018                                       Clara Callan   \n",
      "21  0374157065  Flu: The Story of the Great Influenza Pandemic...   \n",
      "\n",
      "             Book-Author Year-Of-Publication              Publisher  \\\n",
      "3   Richard Bruce Wright                2001  HarperFlamingo Canada   \n",
      "6   Richard Bruce Wright                2001  HarperFlamingo Canada   \n",
      "7   Richard Bruce Wright                2001  HarperFlamingo Canada   \n",
      "10  Richard Bruce Wright                2001  HarperFlamingo Canada   \n",
      "21      Gina Bari Kolata                1999   Farrar Straus Giroux   \n",
      "\n",
      "                                          Image-URL-S  \\\n",
      "3   http://images.amazon.com/images/P/0002005018.0...   \n",
      "6   http://images.amazon.com/images/P/0002005018.0...   \n",
      "7   http://images.amazon.com/images/P/0002005018.0...   \n",
      "10  http://images.amazon.com/images/P/0002005018.0...   \n",
      "21  http://images.amazon.com/images/P/0374157065.0...   \n",
      "\n",
      "                                          Image-URL-M  \\\n",
      "3   https://images.amazon.com/images/P/0002005018....   \n",
      "6   https://images.amazon.com/images/P/0002005018....   \n",
      "7   https://images.amazon.com/images/P/0002005018....   \n",
      "10  https://images.amazon.com/images/P/0002005018....   \n",
      "21  https://images.amazon.com/images/P/0374157065....   \n",
      "\n",
      "                                          Image-URL-L  User-ID  Book-Rating  \n",
      "3   http://images.amazon.com/images/P/0002005018.0...    11676            8  \n",
      "6   http://images.amazon.com/images/P/0002005018.0...    85526            0  \n",
      "7   http://images.amazon.com/images/P/0002005018.0...    96054            0  \n",
      "10  http://images.amazon.com/images/P/0002005018.0...   177458            0  \n",
      "21  http://images.amazon.com/images/P/0374157065.0...   110912           10  \n",
      "\n",
      "Shape\t:\t(474007, 10)\n"
     ]
    }
   ],
   "source": [
    "filtered_users = temp_br[temp_br['User-ID'].isin(top_users)]\n",
    "df_info(filtered_users)"
   ]
  },
  {
   "cell_type": "markdown",
   "id": "36537885",
   "metadata": {},
   "source": [
    "### Obtaining the `Book-Title` with **more than 50** ratings"
   ]
  },
  {
   "cell_type": "code",
   "execution_count": 21,
   "id": "00e6f23e",
   "metadata": {},
   "outputs": [],
   "source": [
    "y = filtered_users.groupby('Book-Title').count()['Book-Rating']\n",
    "famous_books = y[y >= 50].reset_index()['Book-Title'].values"
   ]
  },
  {
   "cell_type": "markdown",
   "id": "19eeb1a9",
   "metadata": {},
   "source": [
    "### Obtaining the `famous_books` records"
   ]
  },
  {
   "cell_type": "code",
   "execution_count": 22,
   "id": "08f8fd2c",
   "metadata": {},
   "outputs": [
    {
     "data": {
      "text/html": [
       "<div>\n",
       "<style scoped>\n",
       "    .dataframe tbody tr th:only-of-type {\n",
       "        vertical-align: middle;\n",
       "    }\n",
       "\n",
       "    .dataframe tbody tr th {\n",
       "        vertical-align: top;\n",
       "    }\n",
       "\n",
       "    .dataframe thead th {\n",
       "        text-align: right;\n",
       "    }\n",
       "</style>\n",
       "<table border=\"1\" class=\"dataframe\">\n",
       "  <thead>\n",
       "    <tr style=\"text-align: right;\">\n",
       "      <th></th>\n",
       "      <th>ISBN</th>\n",
       "      <th>Book-Title</th>\n",
       "      <th>Book-Author</th>\n",
       "      <th>Year-Of-Publication</th>\n",
       "      <th>Publisher</th>\n",
       "      <th>Image-URL-S</th>\n",
       "      <th>Image-URL-M</th>\n",
       "      <th>Image-URL-L</th>\n",
       "      <th>User-ID</th>\n",
       "      <th>Book-Rating</th>\n",
       "    </tr>\n",
       "  </thead>\n",
       "  <tbody>\n",
       "    <tr>\n",
       "      <th>31</th>\n",
       "      <td>0399135782</td>\n",
       "      <td>The Kitchen God's Wife</td>\n",
       "      <td>Amy Tan</td>\n",
       "      <td>1991</td>\n",
       "      <td>Putnam Pub Group</td>\n",
       "      <td>http://images.amazon.com/images/P/0399135782.0...</td>\n",
       "      <td>https://images.amazon.com/images/P/0399135782....</td>\n",
       "      <td>http://images.amazon.com/images/P/0399135782.0...</td>\n",
       "      <td>11676</td>\n",
       "      <td>9</td>\n",
       "    </tr>\n",
       "    <tr>\n",
       "      <th>33</th>\n",
       "      <td>0399135782</td>\n",
       "      <td>The Kitchen God's Wife</td>\n",
       "      <td>Amy Tan</td>\n",
       "      <td>1991</td>\n",
       "      <td>Putnam Pub Group</td>\n",
       "      <td>http://images.amazon.com/images/P/0399135782.0...</td>\n",
       "      <td>https://images.amazon.com/images/P/0399135782....</td>\n",
       "      <td>http://images.amazon.com/images/P/0399135782.0...</td>\n",
       "      <td>36836</td>\n",
       "      <td>0</td>\n",
       "    </tr>\n",
       "    <tr>\n",
       "      <th>34</th>\n",
       "      <td>0399135782</td>\n",
       "      <td>The Kitchen God's Wife</td>\n",
       "      <td>Amy Tan</td>\n",
       "      <td>1991</td>\n",
       "      <td>Putnam Pub Group</td>\n",
       "      <td>http://images.amazon.com/images/P/0399135782.0...</td>\n",
       "      <td>https://images.amazon.com/images/P/0399135782....</td>\n",
       "      <td>http://images.amazon.com/images/P/0399135782.0...</td>\n",
       "      <td>46398</td>\n",
       "      <td>9</td>\n",
       "    </tr>\n",
       "    <tr>\n",
       "      <th>38</th>\n",
       "      <td>0399135782</td>\n",
       "      <td>The Kitchen God's Wife</td>\n",
       "      <td>Amy Tan</td>\n",
       "      <td>1991</td>\n",
       "      <td>Putnam Pub Group</td>\n",
       "      <td>http://images.amazon.com/images/P/0399135782.0...</td>\n",
       "      <td>https://images.amazon.com/images/P/0399135782....</td>\n",
       "      <td>http://images.amazon.com/images/P/0399135782.0...</td>\n",
       "      <td>113270</td>\n",
       "      <td>0</td>\n",
       "    </tr>\n",
       "    <tr>\n",
       "      <th>39</th>\n",
       "      <td>0399135782</td>\n",
       "      <td>The Kitchen God's Wife</td>\n",
       "      <td>Amy Tan</td>\n",
       "      <td>1991</td>\n",
       "      <td>Putnam Pub Group</td>\n",
       "      <td>http://images.amazon.com/images/P/0399135782.0...</td>\n",
       "      <td>https://images.amazon.com/images/P/0399135782....</td>\n",
       "      <td>http://images.amazon.com/images/P/0399135782.0...</td>\n",
       "      <td>113519</td>\n",
       "      <td>0</td>\n",
       "    </tr>\n",
       "  </tbody>\n",
       "</table>\n",
       "</div>"
      ],
      "text/plain": [
       "          ISBN              Book-Title Book-Author Year-Of-Publication  \\\n",
       "31  0399135782  The Kitchen God's Wife     Amy Tan                1991   \n",
       "33  0399135782  The Kitchen God's Wife     Amy Tan                1991   \n",
       "34  0399135782  The Kitchen God's Wife     Amy Tan                1991   \n",
       "38  0399135782  The Kitchen God's Wife     Amy Tan                1991   \n",
       "39  0399135782  The Kitchen God's Wife     Amy Tan                1991   \n",
       "\n",
       "           Publisher                                        Image-URL-S  \\\n",
       "31  Putnam Pub Group  http://images.amazon.com/images/P/0399135782.0...   \n",
       "33  Putnam Pub Group  http://images.amazon.com/images/P/0399135782.0...   \n",
       "34  Putnam Pub Group  http://images.amazon.com/images/P/0399135782.0...   \n",
       "38  Putnam Pub Group  http://images.amazon.com/images/P/0399135782.0...   \n",
       "39  Putnam Pub Group  http://images.amazon.com/images/P/0399135782.0...   \n",
       "\n",
       "                                          Image-URL-M  \\\n",
       "31  https://images.amazon.com/images/P/0399135782....   \n",
       "33  https://images.amazon.com/images/P/0399135782....   \n",
       "34  https://images.amazon.com/images/P/0399135782....   \n",
       "38  https://images.amazon.com/images/P/0399135782....   \n",
       "39  https://images.amazon.com/images/P/0399135782....   \n",
       "\n",
       "                                          Image-URL-L  User-ID  Book-Rating  \n",
       "31  http://images.amazon.com/images/P/0399135782.0...    11676            9  \n",
       "33  http://images.amazon.com/images/P/0399135782.0...    36836            0  \n",
       "34  http://images.amazon.com/images/P/0399135782.0...    46398            9  \n",
       "38  http://images.amazon.com/images/P/0399135782.0...   113270            0  \n",
       "39  http://images.amazon.com/images/P/0399135782.0...   113519            0  "
      ]
     },
     "execution_count": 22,
     "metadata": {},
     "output_type": "execute_result"
    }
   ],
   "source": [
    "filtered_books = filtered_users[filtered_users['Book-Title'].isin(famous_books)]\n",
    "filtered_books.head()"
   ]
  },
  {
   "cell_type": "markdown",
   "id": "5bc60afa",
   "metadata": {},
   "source": [
    "### Cleaning the `filtered books` book titles"
   ]
  },
  {
   "cell_type": "code",
   "execution_count": 24,
   "id": "f0c77046",
   "metadata": {},
   "outputs": [
    {
     "data": {
      "text/html": [
       "<div>\n",
       "<style scoped>\n",
       "    .dataframe tbody tr th:only-of-type {\n",
       "        vertical-align: middle;\n",
       "    }\n",
       "\n",
       "    .dataframe tbody tr th {\n",
       "        vertical-align: top;\n",
       "    }\n",
       "\n",
       "    .dataframe thead th {\n",
       "        text-align: right;\n",
       "    }\n",
       "</style>\n",
       "<table border=\"1\" class=\"dataframe\">\n",
       "  <thead>\n",
       "    <tr style=\"text-align: right;\">\n",
       "      <th></th>\n",
       "      <th>ISBN</th>\n",
       "      <th>Book-Title</th>\n",
       "      <th>Book-Author</th>\n",
       "      <th>Year-Of-Publication</th>\n",
       "      <th>Publisher</th>\n",
       "      <th>Image-URL-S</th>\n",
       "      <th>Image-URL-M</th>\n",
       "      <th>Image-URL-L</th>\n",
       "      <th>User-ID</th>\n",
       "      <th>Book-Rating</th>\n",
       "    </tr>\n",
       "  </thead>\n",
       "  <tbody>\n",
       "    <tr>\n",
       "      <th>142493</th>\n",
       "      <td>0439136350</td>\n",
       "      <td>Harry Potter and the Prisoner of Azkaban</td>\n",
       "      <td>J. K. Rowling</td>\n",
       "      <td>1999</td>\n",
       "      <td>Scholastic</td>\n",
       "      <td>http://images.amazon.com/images/P/0439136350.0...</td>\n",
       "      <td>https://images.amazon.com/images/P/0439136350....</td>\n",
       "      <td>http://images.amazon.com/images/P/0439136350.0...</td>\n",
       "      <td>254</td>\n",
       "      <td>9</td>\n",
       "    </tr>\n",
       "    <tr>\n",
       "      <th>142499</th>\n",
       "      <td>0439136350</td>\n",
       "      <td>Harry Potter and the Prisoner of Azkaban</td>\n",
       "      <td>J. K. Rowling</td>\n",
       "      <td>1999</td>\n",
       "      <td>Scholastic</td>\n",
       "      <td>http://images.amazon.com/images/P/0439136350.0...</td>\n",
       "      <td>https://images.amazon.com/images/P/0439136350....</td>\n",
       "      <td>http://images.amazon.com/images/P/0439136350.0...</td>\n",
       "      <td>6251</td>\n",
       "      <td>10</td>\n",
       "    </tr>\n",
       "    <tr>\n",
       "      <th>142501</th>\n",
       "      <td>0439136350</td>\n",
       "      <td>Harry Potter and the Prisoner of Azkaban</td>\n",
       "      <td>J. K. Rowling</td>\n",
       "      <td>1999</td>\n",
       "      <td>Scholastic</td>\n",
       "      <td>http://images.amazon.com/images/P/0439136350.0...</td>\n",
       "      <td>https://images.amazon.com/images/P/0439136350....</td>\n",
       "      <td>http://images.amazon.com/images/P/0439136350.0...</td>\n",
       "      <td>8681</td>\n",
       "      <td>0</td>\n",
       "    </tr>\n",
       "    <tr>\n",
       "      <th>142503</th>\n",
       "      <td>0439136350</td>\n",
       "      <td>Harry Potter and the Prisoner of Azkaban</td>\n",
       "      <td>J. K. Rowling</td>\n",
       "      <td>1999</td>\n",
       "      <td>Scholastic</td>\n",
       "      <td>http://images.amazon.com/images/P/0439136350.0...</td>\n",
       "      <td>https://images.amazon.com/images/P/0439136350....</td>\n",
       "      <td>http://images.amazon.com/images/P/0439136350.0...</td>\n",
       "      <td>11676</td>\n",
       "      <td>0</td>\n",
       "    </tr>\n",
       "    <tr>\n",
       "      <th>142505</th>\n",
       "      <td>0439136350</td>\n",
       "      <td>Harry Potter and the Prisoner of Azkaban</td>\n",
       "      <td>J. K. Rowling</td>\n",
       "      <td>1999</td>\n",
       "      <td>Scholastic</td>\n",
       "      <td>http://images.amazon.com/images/P/0439136350.0...</td>\n",
       "      <td>https://images.amazon.com/images/P/0439136350....</td>\n",
       "      <td>http://images.amazon.com/images/P/0439136350.0...</td>\n",
       "      <td>16106</td>\n",
       "      <td>0</td>\n",
       "    </tr>\n",
       "  </tbody>\n",
       "</table>\n",
       "</div>"
      ],
      "text/plain": [
       "              ISBN                                Book-Title    Book-Author  \\\n",
       "142493  0439136350  Harry Potter and the Prisoner of Azkaban  J. K. Rowling   \n",
       "142499  0439136350  Harry Potter and the Prisoner of Azkaban  J. K. Rowling   \n",
       "142501  0439136350  Harry Potter and the Prisoner of Azkaban  J. K. Rowling   \n",
       "142503  0439136350  Harry Potter and the Prisoner of Azkaban  J. K. Rowling   \n",
       "142505  0439136350  Harry Potter and the Prisoner of Azkaban  J. K. Rowling   \n",
       "\n",
       "       Year-Of-Publication   Publisher  \\\n",
       "142493                1999  Scholastic   \n",
       "142499                1999  Scholastic   \n",
       "142501                1999  Scholastic   \n",
       "142503                1999  Scholastic   \n",
       "142505                1999  Scholastic   \n",
       "\n",
       "                                              Image-URL-S  \\\n",
       "142493  http://images.amazon.com/images/P/0439136350.0...   \n",
       "142499  http://images.amazon.com/images/P/0439136350.0...   \n",
       "142501  http://images.amazon.com/images/P/0439136350.0...   \n",
       "142503  http://images.amazon.com/images/P/0439136350.0...   \n",
       "142505  http://images.amazon.com/images/P/0439136350.0...   \n",
       "\n",
       "                                              Image-URL-M  \\\n",
       "142493  https://images.amazon.com/images/P/0439136350....   \n",
       "142499  https://images.amazon.com/images/P/0439136350....   \n",
       "142501  https://images.amazon.com/images/P/0439136350....   \n",
       "142503  https://images.amazon.com/images/P/0439136350....   \n",
       "142505  https://images.amazon.com/images/P/0439136350....   \n",
       "\n",
       "                                              Image-URL-L  User-ID  \\\n",
       "142493  http://images.amazon.com/images/P/0439136350.0...      254   \n",
       "142499  http://images.amazon.com/images/P/0439136350.0...     6251   \n",
       "142501  http://images.amazon.com/images/P/0439136350.0...     8681   \n",
       "142503  http://images.amazon.com/images/P/0439136350.0...    11676   \n",
       "142505  http://images.amazon.com/images/P/0439136350.0...    16106   \n",
       "\n",
       "        Book-Rating  \n",
       "142493            9  \n",
       "142499           10  \n",
       "142501            0  \n",
       "142503            0  \n",
       "142505            0  "
      ]
     },
     "execution_count": 24,
     "metadata": {},
     "output_type": "execute_result"
    }
   ],
   "source": [
    "filtered_books['Book-Title'] = filtered_books['Book-Title'].str.strip().replace(r'\\s{1,}\\(.*\\)', '', regex=True)\n",
    "filtered_books['Book-Title'] = filtered_books['Book-Title'].str.replace('&amp;', 'and')\n",
    "filtered_books['Book-Title'] = filtered_books['Book-Title'].str.replace('\\\\O\\\\\" Is for Outlaw\"', \"O is for Outlaw\")\n",
    "\n",
    "filtered_books[filtered_books['Book-Title'] == ex].head()"
   ]
  },
  {
   "cell_type": "markdown",
   "id": "1261141c",
   "metadata": {},
   "source": [
    "### **Pivoting** the table `filtered_books`\n",
    "On the `Book-Title` column as **index**, with `User-ID` as **columns** and `Book-Rating` as **values**"
   ]
  },
  {
   "cell_type": "code",
   "execution_count": 25,
   "id": "09ef837a",
   "metadata": {},
   "outputs": [
    {
     "data": {
      "text/html": [
       "<div>\n",
       "<style scoped>\n",
       "    .dataframe tbody tr th:only-of-type {\n",
       "        vertical-align: middle;\n",
       "    }\n",
       "\n",
       "    .dataframe tbody tr th {\n",
       "        vertical-align: top;\n",
       "    }\n",
       "\n",
       "    .dataframe thead th {\n",
       "        text-align: right;\n",
       "    }\n",
       "</style>\n",
       "<table border=\"1\" class=\"dataframe\">\n",
       "  <thead>\n",
       "    <tr style=\"text-align: right;\">\n",
       "      <th>User-ID</th>\n",
       "      <th>254</th>\n",
       "      <th>2276</th>\n",
       "      <th>2766</th>\n",
       "      <th>2977</th>\n",
       "      <th>3363</th>\n",
       "      <th>4017</th>\n",
       "      <th>4385</th>\n",
       "      <th>6251</th>\n",
       "      <th>6323</th>\n",
       "      <th>6543</th>\n",
       "      <th>...</th>\n",
       "      <th>271705</th>\n",
       "      <th>273979</th>\n",
       "      <th>274004</th>\n",
       "      <th>274061</th>\n",
       "      <th>274301</th>\n",
       "      <th>274308</th>\n",
       "      <th>275970</th>\n",
       "      <th>277427</th>\n",
       "      <th>277639</th>\n",
       "      <th>278418</th>\n",
       "    </tr>\n",
       "    <tr>\n",
       "      <th>Book-Title</th>\n",
       "      <th></th>\n",
       "      <th></th>\n",
       "      <th></th>\n",
       "      <th></th>\n",
       "      <th></th>\n",
       "      <th></th>\n",
       "      <th></th>\n",
       "      <th></th>\n",
       "      <th></th>\n",
       "      <th></th>\n",
       "      <th></th>\n",
       "      <th></th>\n",
       "      <th></th>\n",
       "      <th></th>\n",
       "      <th></th>\n",
       "      <th></th>\n",
       "      <th></th>\n",
       "      <th></th>\n",
       "      <th></th>\n",
       "      <th></th>\n",
       "      <th></th>\n",
       "    </tr>\n",
       "  </thead>\n",
       "  <tbody>\n",
       "    <tr>\n",
       "      <th>1984</th>\n",
       "      <td>9.0</td>\n",
       "      <td>0.0</td>\n",
       "      <td>0.0</td>\n",
       "      <td>0.0</td>\n",
       "      <td>0.0</td>\n",
       "      <td>0.0</td>\n",
       "      <td>0.0</td>\n",
       "      <td>0.0</td>\n",
       "      <td>0.0</td>\n",
       "      <td>0.0</td>\n",
       "      <td>...</td>\n",
       "      <td>10.0</td>\n",
       "      <td>0.0</td>\n",
       "      <td>0.0</td>\n",
       "      <td>0.0</td>\n",
       "      <td>0.0</td>\n",
       "      <td>0.0</td>\n",
       "      <td>0.0</td>\n",
       "      <td>0.0</td>\n",
       "      <td>0.0</td>\n",
       "      <td>0.0</td>\n",
       "    </tr>\n",
       "    <tr>\n",
       "      <th>1st to Die: A Novel</th>\n",
       "      <td>0.0</td>\n",
       "      <td>0.0</td>\n",
       "      <td>0.0</td>\n",
       "      <td>0.0</td>\n",
       "      <td>0.0</td>\n",
       "      <td>0.0</td>\n",
       "      <td>0.0</td>\n",
       "      <td>0.0</td>\n",
       "      <td>0.0</td>\n",
       "      <td>9.0</td>\n",
       "      <td>...</td>\n",
       "      <td>0.0</td>\n",
       "      <td>0.0</td>\n",
       "      <td>0.0</td>\n",
       "      <td>0.0</td>\n",
       "      <td>0.0</td>\n",
       "      <td>0.0</td>\n",
       "      <td>0.0</td>\n",
       "      <td>0.0</td>\n",
       "      <td>0.0</td>\n",
       "      <td>0.0</td>\n",
       "    </tr>\n",
       "    <tr>\n",
       "      <th>2nd Chance</th>\n",
       "      <td>0.0</td>\n",
       "      <td>10.0</td>\n",
       "      <td>0.0</td>\n",
       "      <td>0.0</td>\n",
       "      <td>0.0</td>\n",
       "      <td>0.0</td>\n",
       "      <td>0.0</td>\n",
       "      <td>0.0</td>\n",
       "      <td>0.0</td>\n",
       "      <td>0.0</td>\n",
       "      <td>...</td>\n",
       "      <td>0.0</td>\n",
       "      <td>0.0</td>\n",
       "      <td>0.0</td>\n",
       "      <td>0.0</td>\n",
       "      <td>0.0</td>\n",
       "      <td>0.0</td>\n",
       "      <td>0.0</td>\n",
       "      <td>0.0</td>\n",
       "      <td>0.0</td>\n",
       "      <td>0.0</td>\n",
       "    </tr>\n",
       "    <tr>\n",
       "      <th>4 Blondes</th>\n",
       "      <td>0.0</td>\n",
       "      <td>0.0</td>\n",
       "      <td>0.0</td>\n",
       "      <td>0.0</td>\n",
       "      <td>0.0</td>\n",
       "      <td>0.0</td>\n",
       "      <td>0.0</td>\n",
       "      <td>0.0</td>\n",
       "      <td>0.0</td>\n",
       "      <td>0.0</td>\n",
       "      <td>...</td>\n",
       "      <td>0.0</td>\n",
       "      <td>0.0</td>\n",
       "      <td>0.0</td>\n",
       "      <td>0.0</td>\n",
       "      <td>0.0</td>\n",
       "      <td>0.0</td>\n",
       "      <td>0.0</td>\n",
       "      <td>0.0</td>\n",
       "      <td>0.0</td>\n",
       "      <td>0.0</td>\n",
       "    </tr>\n",
       "    <tr>\n",
       "      <th>A Bend in the Road</th>\n",
       "      <td>0.0</td>\n",
       "      <td>0.0</td>\n",
       "      <td>7.0</td>\n",
       "      <td>0.0</td>\n",
       "      <td>0.0</td>\n",
       "      <td>0.0</td>\n",
       "      <td>0.0</td>\n",
       "      <td>0.0</td>\n",
       "      <td>0.0</td>\n",
       "      <td>0.0</td>\n",
       "      <td>...</td>\n",
       "      <td>0.0</td>\n",
       "      <td>0.0</td>\n",
       "      <td>0.0</td>\n",
       "      <td>0.0</td>\n",
       "      <td>0.0</td>\n",
       "      <td>0.0</td>\n",
       "      <td>0.0</td>\n",
       "      <td>0.0</td>\n",
       "      <td>0.0</td>\n",
       "      <td>0.0</td>\n",
       "    </tr>\n",
       "  </tbody>\n",
       "</table>\n",
       "<p>5 rows × 810 columns</p>\n",
       "</div>"
      ],
      "text/plain": [
       "User-ID              254     2276    2766    2977    3363    4017    4385    \\\n",
       "Book-Title                                                                    \n",
       "1984                    9.0     0.0     0.0     0.0     0.0     0.0     0.0   \n",
       "1st to Die: A Novel     0.0     0.0     0.0     0.0     0.0     0.0     0.0   \n",
       "2nd Chance              0.0    10.0     0.0     0.0     0.0     0.0     0.0   \n",
       "4 Blondes               0.0     0.0     0.0     0.0     0.0     0.0     0.0   \n",
       "A Bend in the Road      0.0     0.0     7.0     0.0     0.0     0.0     0.0   \n",
       "\n",
       "User-ID              6251    6323    6543    ...  271705  273979  274004  \\\n",
       "Book-Title                                   ...                           \n",
       "1984                    0.0     0.0     0.0  ...    10.0     0.0     0.0   \n",
       "1st to Die: A Novel     0.0     0.0     9.0  ...     0.0     0.0     0.0   \n",
       "2nd Chance              0.0     0.0     0.0  ...     0.0     0.0     0.0   \n",
       "4 Blondes               0.0     0.0     0.0  ...     0.0     0.0     0.0   \n",
       "A Bend in the Road      0.0     0.0     0.0  ...     0.0     0.0     0.0   \n",
       "\n",
       "User-ID              274061  274301  274308  275970  277427  277639  278418  \n",
       "Book-Title                                                                   \n",
       "1984                    0.0     0.0     0.0     0.0     0.0     0.0     0.0  \n",
       "1st to Die: A Novel     0.0     0.0     0.0     0.0     0.0     0.0     0.0  \n",
       "2nd Chance              0.0     0.0     0.0     0.0     0.0     0.0     0.0  \n",
       "4 Blondes               0.0     0.0     0.0     0.0     0.0     0.0     0.0  \n",
       "A Bend in the Road      0.0     0.0     0.0     0.0     0.0     0.0     0.0  \n",
       "\n",
       "[5 rows x 810 columns]"
      ]
     },
     "execution_count": 25,
     "metadata": {},
     "output_type": "execute_result"
    }
   ],
   "source": [
    "pt = filtered_books.pivot_table(index='Book-Title', columns='User-ID', values='Book-Rating').fillna(0.0)\n",
    "\n",
    "pt.head()"
   ]
  },
  {
   "cell_type": "markdown",
   "id": "00652e66",
   "metadata": {},
   "source": [
    "### Computing the **cosine similarity** scores"
   ]
  },
  {
   "cell_type": "code",
   "execution_count": 27,
   "id": "838a9135",
   "metadata": {},
   "outputs": [
    {
     "data": {
      "text/plain": [
       "(698, 698)"
      ]
     },
     "execution_count": 27,
     "metadata": {},
     "output_type": "execute_result"
    }
   ],
   "source": [
    "sim_scores = c_score(pt)\n",
    "sim_scores.shape"
   ]
  },
  {
   "cell_type": "markdown",
   "id": "9262c0e9",
   "metadata": {},
   "source": [
    "### **Recommender** function"
   ]
  },
  {
   "cell_type": "code",
   "execution_count": 28,
   "id": "fdb3a392",
   "metadata": {},
   "outputs": [],
   "source": [
    "def recommend(book):\n",
    "    suggestions = []\n",
    "    index = np.where(pt.index == book)[0][0]\n",
    "    s_books = sorted(list(enumerate(sim_scores[index])), key=lambda x:x[1], reverse=True)[1:6]\n",
    "    for book in s_books:\n",
    "        suggestions.append(pt.index[book[0]])\n",
    "    return suggestions"
   ]
  },
  {
   "cell_type": "markdown",
   "id": "8aa181bf",
   "metadata": {},
   "source": [
    "### Obtaining recommended books i.e. **top 5** suggestions"
   ]
  },
  {
   "cell_type": "code",
   "execution_count": 29,
   "id": "56694eb4",
   "metadata": {},
   "outputs": [
    {
     "data": {
      "text/plain": [
       "['Harry Potter and the Chamber of Secrets',\n",
       " 'Harry Potter and the Prisoner of Azkaban',\n",
       " 'Harry Potter and the Goblet of Fire',\n",
       " 'Harry Potter and the Order of the Phoenix',\n",
       " 'The Mists of Avalon']"
      ]
     },
     "execution_count": 29,
     "metadata": {},
     "output_type": "execute_result"
    }
   ],
   "source": [
    "recommend(\"Harry Potter and the Sorcerer's Stone\")"
   ]
  },
  {
   "cell_type": "markdown",
   "id": "bc2525bb",
   "metadata": {},
   "source": [
    "### Rough Work"
   ]
  },
  {
   "cell_type": "markdown",
   "id": "9bf06902",
   "metadata": {},
   "source": [
    "#### Enumerated list of `SIMILARITY SCORES` i.e. each index represents the corres. index in `pt` table"
   ]
  },
  {
   "cell_type": "code",
   "execution_count": 31,
   "id": "858b9bf1",
   "metadata": {},
   "outputs": [
    {
     "data": {
      "text/plain": [
       "array([1.        , 0.10255025, 0.01220856, 0.        , 0.05367224])"
      ]
     },
     "execution_count": 31,
     "metadata": {},
     "output_type": "execute_result"
    }
   ],
   "source": [
    "s = list(enumerate(sim_scores))\n",
    "s[0][1][:5]                    # will give the SIMILARITY SCORE of `1984` against ALL the 698 books in pt"
   ]
  },
  {
   "cell_type": "markdown",
   "id": "bf3d9592",
   "metadata": {},
   "source": [
    "#### Fetching the `index` of each book"
   ]
  },
  {
   "cell_type": "code",
   "execution_count": 32,
   "id": "77bba5aa",
   "metadata": {},
   "outputs": [
    {
     "name": "stdout",
     "output_type": "stream",
     "text": [
      "Index of 'The Da Vinci Code' : 228\n"
     ]
    }
   ],
   "source": [
    "print(f\"Index of 'The Da Vinci Code' : {np.where(pt.index == ex)[0][0]}\")"
   ]
  },
  {
   "cell_type": "markdown",
   "id": "e7c19df0",
   "metadata": {},
   "source": [
    "#### Sorting the `SIMILARITY SCORES` in **descending order**"
   ]
  },
  {
   "cell_type": "code",
   "execution_count": 34,
   "id": "d3191be2",
   "metadata": {},
   "outputs": [
    {
     "name": "stdout",
     "output_type": "stream",
     "text": [
      "Book# : 0 - SCORE : 0.9999999999999994\n",
      "Book# : 1 - SCORE : 0.10255024829874465\n",
      "Book# : 2 - SCORE : 0.012208555646509366\n",
      "Book# : 3 - SCORE : 0.0\n",
      "Book# : 4 - SCORE : 0.053672244225442485\n"
     ]
    }
   ],
   "source": [
    "for p, q in enumerate(s[0][1][:5]):\n",
    "    print(f\"Book# : {p} - SCORE : {q}\") # will display all the 698 books' SIMILARITY SCORES with index on LHS against '1984'\n",
    "\n",
    "sample = list(enumerate(sim_scores[0])) # wil sort the scores against book '1984' in reverse order\n",
    "z = sorted(sample, key=lambda x:x[1], reverse=True)[1:6]"
   ]
  },
  {
   "cell_type": "markdown",
   "id": "5a120d46",
   "metadata": {},
   "source": [
    "#### Fetching the `Book-Title` using the **index** of `pt`  table"
   ]
  },
  {
   "cell_type": "code",
   "execution_count": 35,
   "id": "aac3d020",
   "metadata": {
    "scrolled": true
   },
   "outputs": [
    {
     "name": "stdout",
     "output_type": "stream",
     "text": [
      "Book Name : Animal Farm\n",
      "Score : 0.2702651417103732\n",
      "\n",
      "Book Name : The Handmaid's Tale\n",
      "Score : 0.26396193711234966\n",
      "\n",
      "Book Name : Brave New World\n",
      "Score : 0.2366937434740099\n",
      "\n",
      "Book Name : The Vampire Lestat\n",
      "Score : 0.23299389358170394\n",
      "\n",
      "Book Name : The Hours : A Novel\n",
      "Score : 0.2262639743141286\n"
     ]
    }
   ],
   "source": [
    "ctr = 0\n",
    "for index, book_score in z:\n",
    "    if ctr!=4:\n",
    "        print(f\"Book Name : {pt.index[index]}\\nScore : {book_score}\\n\")\n",
    "        ctr+=1\n",
    "    else:\n",
    "        print(f\"Book Name : {pt.index[index]}\\nScore : {book_score}\")"
   ]
  },
  {
   "cell_type": "markdown",
   "id": "5dc81cce",
   "metadata": {},
   "source": [
    "### Fetching all the details for each of the `suggestions`"
   ]
  },
  {
   "cell_type": "markdown",
   "id": "5385fee6",
   "metadata": {},
   "source": [
    "#### Removing **duplicate names** from `filtered_books`\n",
    "Only `698` records remain"
   ]
  },
  {
   "cell_type": "code",
   "execution_count": 36,
   "id": "5fbf0657",
   "metadata": {},
   "outputs": [],
   "source": [
    "temp_books = filtered_books.drop_duplicates('Book-Title')[['Book-Title', 'Book-Author', 'Publisher', 'Year-Of-Publication', 'Image-URL-M']]\n",
    "temp_books.to_csv('processed-dataset/final.csv')"
   ]
  },
  {
   "cell_type": "markdown",
   "id": "cebeef23",
   "metadata": {},
   "source": [
    "#### **Top 5**  suggestions"
   ]
  },
  {
   "cell_type": "code",
   "execution_count": 37,
   "id": "f0b5c51f",
   "metadata": {},
   "outputs": [],
   "source": [
    "all_suggestions = {}\n",
    "\n",
    "for name in pt.index:\n",
    "    all_suggestions.update({name: recommend(name)})\n",
    "    \n",
    "suggestions = pd.DataFrame(all_suggestions).T\n",
    "suggestions.reset_index(inplace=True)\n",
    "suggestions.rename(columns={'index': 'book-title', 0: \"1st\", 1: \"2nd\", 2: \"3rd\", 3: \"4th\", 4: \"5th\"}, inplace=True)\n",
    "\n",
    "suggestions.to_csv('processed-dataset/sugg.csv')"
   ]
  },
  {
   "cell_type": "markdown",
   "id": "87a238ed",
   "metadata": {},
   "source": [
    "#### Function for fetching details from `temp_books`"
   ]
  },
  {
   "cell_type": "code",
   "execution_count": 43,
   "id": "a3dd1111",
   "metadata": {},
   "outputs": [
    {
     "name": "stdout",
     "output_type": "stream",
     "text": [
      "Harry Potter and the Goblet of Fire\n",
      "J. K. Rowling\n",
      "Scholastic\n",
      "2000\n",
      "https://images.amazon.com/images/P/0439139597.01.MZZZZZZZ.jpg\n",
      "\n",
      "Harry Potter and the Chamber of Secrets\n",
      "J. K. Rowling\n",
      "Scholastic\n",
      "2000\n",
      "https://images.amazon.com/images/P/0439064872.01.MZZZZZZZ.jpg\n",
      "\n",
      "Harry Potter and the Sorcerer's Stone\n",
      "J. K. Rowling\n",
      "Arthur A. Levine Books\n",
      "1999\n",
      "https://images.amazon.com/images/P/059035342X.01.MZZZZZZZ.jpg\n",
      "\n",
      "Harry Potter and the Order of the Phoenix\n",
      "J. K. Rowling\n",
      "Scholastic\n",
      "2003\n",
      "https://images.amazon.com/images/P/043935806X.01.MZZZZZZZ.jpg\n",
      "\n",
      "The Fellowship of the Ring\n",
      "J.R.R. TOLKIEN\n",
      "Del Rey\n",
      "1986\n",
      "https://images.amazon.com/images/P/0345339703.01.MZZZZZZZ.jpg\n",
      "\n"
     ]
    }
   ],
   "source": [
    "book_data = []\n",
    "for name in suggestions[suggestions['book-title'] == ex].values[0][1:]:\n",
    "    for data in temp_books[temp_books['Book-Title']==name].values:\n",
    "        book_data.append(data)\n",
    "\n",
    "for item in book_data:\n",
    "    for i in item:\n",
    "        print(i)\n",
    "    print()"
   ]
  }
 ],
 "metadata": {
  "kernelspec": {
   "display_name": "base",
   "language": "python",
   "name": "python3"
  },
  "language_info": {
   "codemirror_mode": {
    "name": "ipython",
    "version": 3
   },
   "file_extension": ".py",
   "mimetype": "text/x-python",
   "name": "python",
   "nbconvert_exporter": "python",
   "pygments_lexer": "ipython3",
   "version": "3.12.3"
  }
 },
 "nbformat": 4,
 "nbformat_minor": 5
}
